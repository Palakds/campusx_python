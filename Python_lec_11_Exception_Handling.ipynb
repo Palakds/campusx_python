{
  "nbformat": 4,
  "nbformat_minor": 0,
  "metadata": {
    "colab": {
      "provenance": [],
      "authorship_tag": "ABX9TyMRtWf2NQtHOvm2Syk3ceSd",
      "include_colab_link": true
    },
    "kernelspec": {
      "name": "python3",
      "display_name": "Python 3"
    },
    "language_info": {
      "name": "python"
    }
  },
  "cells": [
    {
      "cell_type": "markdown",
      "metadata": {
        "id": "view-in-github",
        "colab_type": "text"
      },
      "source": [
        "<a href=\"https://colab.research.google.com/github/Palakds/campusx_python/blob/main/Python_lec_11_Exception_Handling.ipynb\" target=\"_parent\"><img src=\"https://colab.research.google.com/assets/colab-badge.svg\" alt=\"Open In Colab\"/></a>"
      ]
    },
    {
      "cell_type": "markdown",
      "source": [
        "There are 2 stages where error may happen in a program\n",
        "\n",
        "- During compilation -> Syntax Error\n",
        "- During execution -> Exceptions"
      ],
      "metadata": {
        "id": "xh7vgT_4-gdB"
      }
    },
    {
      "cell_type": "markdown",
      "source": [
        "### Syntax Error\n",
        "\n",
        "- Something in the program is not written according to the program grammar.\n",
        "- Error is raised by the interpreter/compiler\n",
        "- You can solve it by rectifying the program\n"
      ],
      "metadata": {
        "id": "U9R2vn5c-2RE"
      }
    },
    {
      "cell_type": "code",
      "source": [
        "#example of synatx error\n",
        "print 'hello world'"
      ],
      "metadata": {
        "colab": {
          "base_uri": "https://localhost:8080/",
          "height": 106
        },
        "id": "u6sAi2uw6Ig7",
        "outputId": "9ae959fc-627c-494e-9541-a9284d2196bc"
      },
      "execution_count": null,
      "outputs": [
        {
          "output_type": "error",
          "ename": "SyntaxError",
          "evalue": "Missing parentheses in call to 'print'. Did you mean print(...)? (<ipython-input-1-efee68716a98>, line 2)",
          "traceback": [
            "\u001b[0;36m  File \u001b[0;32m\"<ipython-input-1-efee68716a98>\"\u001b[0;36m, line \u001b[0;32m2\u001b[0m\n\u001b[0;31m    print 'hello world'\u001b[0m\n\u001b[0m    ^\u001b[0m\n\u001b[0;31mSyntaxError\u001b[0m\u001b[0;31m:\u001b[0m Missing parentheses in call to 'print'. Did you mean print(...)?\n"
          ]
        }
      ]
    },
    {
      "cell_type": "markdown",
      "source": [
        "### Other examples of syntax error\n",
        "\n",
        "- Leaving symbols like colon,brackets\n",
        "- Misspelling a keyword\n",
        "- Incorrect indentation\n",
        "- empty if/else/loops/class/functions"
      ],
      "metadata": {
        "id": "502wvB8BGO0K"
      }
    },
    {
      "cell_type": "code",
      "source": [
        "a = 5\n",
        "if a==3\n",
        "  print('hello')"
      ],
      "metadata": {
        "colab": {
          "base_uri": "https://localhost:8080/",
          "height": 106
        },
        "id": "AYEnKb6a6OAw",
        "outputId": "b2352742-1e62-49d7-d19b-e57d62acdf37"
      },
      "execution_count": null,
      "outputs": [
        {
          "output_type": "error",
          "ename": "SyntaxError",
          "evalue": "expected ':' (<ipython-input-2-efc58c10458d>, line 2)",
          "traceback": [
            "\u001b[0;36m  File \u001b[0;32m\"<ipython-input-2-efc58c10458d>\"\u001b[0;36m, line \u001b[0;32m2\u001b[0m\n\u001b[0;31m    if a==3\u001b[0m\n\u001b[0m           ^\u001b[0m\n\u001b[0;31mSyntaxError\u001b[0m\u001b[0;31m:\u001b[0m expected ':'\n"
          ]
        }
      ]
    },
    {
      "cell_type": "code",
      "source": [
        "a = 5\n",
        "iff a==3:\n",
        "  print('hello')"
      ],
      "metadata": {
        "colab": {
          "base_uri": "https://localhost:8080/",
          "height": 106
        },
        "id": "FFw6cZgI6N9M",
        "outputId": "c70fe901-6987-43c3-8c3f-a2c960c5fffe"
      },
      "execution_count": null,
      "outputs": [
        {
          "output_type": "error",
          "ename": "SyntaxError",
          "evalue": "invalid syntax (<ipython-input-3-d1e6fae154d5>, line 2)",
          "traceback": [
            "\u001b[0;36m  File \u001b[0;32m\"<ipython-input-3-d1e6fae154d5>\"\u001b[0;36m, line \u001b[0;32m2\u001b[0m\n\u001b[0;31m    iff a==3:\u001b[0m\n\u001b[0m        ^\u001b[0m\n\u001b[0;31mSyntaxError\u001b[0m\u001b[0;31m:\u001b[0m invalid syntax\n"
          ]
        }
      ]
    },
    {
      "cell_type": "code",
      "source": [
        "a = 5\n",
        "if a==3:\n",
        "print('hello')"
      ],
      "metadata": {
        "colab": {
          "base_uri": "https://localhost:8080/",
          "height": 106
        },
        "id": "Htzf5MV-6N7i",
        "outputId": "793358bf-1a1a-415f-ff6f-daa7322e4374"
      },
      "execution_count": null,
      "outputs": [
        {
          "output_type": "error",
          "ename": "IndentationError",
          "evalue": "expected an indented block after 'if' statement on line 2 (<ipython-input-4-ccc702dc036c>, line 3)",
          "traceback": [
            "\u001b[0;36m  File \u001b[0;32m\"<ipython-input-4-ccc702dc036c>\"\u001b[0;36m, line \u001b[0;32m3\u001b[0m\n\u001b[0;31m    print('hello')\u001b[0m\n\u001b[0m    ^\u001b[0m\n\u001b[0;31mIndentationError\u001b[0m\u001b[0;31m:\u001b[0m expected an indented block after 'if' statement on line 2\n"
          ]
        }
      ]
    },
    {
      "cell_type": "code",
      "source": [
        "# IndexError\n",
        "# The IndexError is thrown when trying to access an item at an invalid index.\n",
        "L = [1,2,3]\n",
        "L[100]"
      ],
      "metadata": {
        "colab": {
          "base_uri": "https://localhost:8080/",
          "height": 176
        },
        "id": "wJtsauiw6N5o",
        "outputId": "76dd5ba7-8a53-4c90-e271-91d903e47d18"
      },
      "execution_count": null,
      "outputs": [
        {
          "output_type": "error",
          "ename": "IndexError",
          "evalue": "list index out of range",
          "traceback": [
            "\u001b[0;31m---------------------------------------------------------------------------\u001b[0m",
            "\u001b[0;31mIndexError\u001b[0m                                Traceback (most recent call last)",
            "\u001b[0;32m<ipython-input-5-c90668d2b194>\u001b[0m in \u001b[0;36m<cell line: 4>\u001b[0;34m()\u001b[0m\n\u001b[1;32m      2\u001b[0m \u001b[0;31m# The IndexError is thrown when trying to access an item at an invalid index.\u001b[0m\u001b[0;34m\u001b[0m\u001b[0;34m\u001b[0m\u001b[0m\n\u001b[1;32m      3\u001b[0m \u001b[0mL\u001b[0m \u001b[0;34m=\u001b[0m \u001b[0;34m[\u001b[0m\u001b[0;36m1\u001b[0m\u001b[0;34m,\u001b[0m\u001b[0;36m2\u001b[0m\u001b[0;34m,\u001b[0m\u001b[0;36m3\u001b[0m\u001b[0;34m]\u001b[0m\u001b[0;34m\u001b[0m\u001b[0;34m\u001b[0m\u001b[0m\n\u001b[0;32m----> 4\u001b[0;31m \u001b[0mL\u001b[0m\u001b[0;34m[\u001b[0m\u001b[0;36m100\u001b[0m\u001b[0;34m]\u001b[0m\u001b[0;34m\u001b[0m\u001b[0;34m\u001b[0m\u001b[0m\n\u001b[0m",
            "\u001b[0;31mIndexError\u001b[0m: list index out of range"
          ]
        }
      ]
    },
    {
      "cell_type": "code",
      "source": [
        "# ModuleNotFoundError\n",
        "# The ModuleNotFoundError is thrown when a module could not be found.\n",
        "import mathi\n",
        "math.floor(5.3)"
      ],
      "metadata": {
        "colab": {
          "base_uri": "https://localhost:8080/",
          "height": 366
        },
        "id": "MLmo__qV6N3u",
        "outputId": "c6818c7f-a139-471f-d707-00f7c4017a97"
      },
      "execution_count": null,
      "outputs": [
        {
          "output_type": "error",
          "ename": "ModuleNotFoundError",
          "evalue": "No module named 'mathi'",
          "traceback": [
            "\u001b[0;31m---------------------------------------------------------------------------\u001b[0m",
            "\u001b[0;31mModuleNotFoundError\u001b[0m                       Traceback (most recent call last)",
            "\u001b[0;32m<ipython-input-6-cbdaf00191df>\u001b[0m in \u001b[0;36m<cell line: 3>\u001b[0;34m()\u001b[0m\n\u001b[1;32m      1\u001b[0m \u001b[0;31m# ModuleNotFoundError\u001b[0m\u001b[0;34m\u001b[0m\u001b[0;34m\u001b[0m\u001b[0m\n\u001b[1;32m      2\u001b[0m \u001b[0;31m# The ModuleNotFoundError is thrown when a module could not be found.\u001b[0m\u001b[0;34m\u001b[0m\u001b[0;34m\u001b[0m\u001b[0m\n\u001b[0;32m----> 3\u001b[0;31m \u001b[0;32mimport\u001b[0m \u001b[0mmathi\u001b[0m\u001b[0;34m\u001b[0m\u001b[0;34m\u001b[0m\u001b[0m\n\u001b[0m\u001b[1;32m      4\u001b[0m \u001b[0mmath\u001b[0m\u001b[0;34m.\u001b[0m\u001b[0mfloor\u001b[0m\u001b[0;34m(\u001b[0m\u001b[0;36m5.3\u001b[0m\u001b[0;34m)\u001b[0m\u001b[0;34m\u001b[0m\u001b[0;34m\u001b[0m\u001b[0m\n",
            "\u001b[0;31mModuleNotFoundError\u001b[0m: No module named 'mathi'",
            "",
            "\u001b[0;31m---------------------------------------------------------------------------\u001b[0;32m\nNOTE: If your import is failing due to a missing package, you can\nmanually install dependencies using either !pip or !apt.\n\nTo view examples of installing some common dependencies, click the\n\"Open Examples\" button below.\n\u001b[0;31m---------------------------------------------------------------------------\u001b[0m\n"
          ],
          "errorDetails": {
            "actions": [
              {
                "action": "open_url",
                "actionText": "Open Examples",
                "url": "/notebooks/snippets/importing_libraries.ipynb"
              }
            ]
          }
        }
      ]
    },
    {
      "cell_type": "code",
      "source": [
        "# KeyError\n",
        "# The KeyError is thrown when a key is not found\n",
        "\n",
        "d = {'name':'nitish'}\n",
        "d['age']"
      ],
      "metadata": {
        "colab": {
          "base_uri": "https://localhost:8080/",
          "height": 176
        },
        "id": "YxPe7kfG64tB",
        "outputId": "f527a3cb-65c5-4073-8b4b-5e94a78721ec"
      },
      "execution_count": null,
      "outputs": [
        {
          "output_type": "error",
          "ename": "KeyError",
          "evalue": "'age'",
          "traceback": [
            "\u001b[0;31m---------------------------------------------------------------------------\u001b[0m",
            "\u001b[0;31mKeyError\u001b[0m                                  Traceback (most recent call last)",
            "\u001b[0;32m<ipython-input-7-453afa1c9765>\u001b[0m in \u001b[0;36m<cell line: 5>\u001b[0;34m()\u001b[0m\n\u001b[1;32m      3\u001b[0m \u001b[0;34m\u001b[0m\u001b[0m\n\u001b[1;32m      4\u001b[0m \u001b[0md\u001b[0m \u001b[0;34m=\u001b[0m \u001b[0;34m{\u001b[0m\u001b[0;34m'name'\u001b[0m\u001b[0;34m:\u001b[0m\u001b[0;34m'nitish'\u001b[0m\u001b[0;34m}\u001b[0m\u001b[0;34m\u001b[0m\u001b[0;34m\u001b[0m\u001b[0m\n\u001b[0;32m----> 5\u001b[0;31m \u001b[0md\u001b[0m\u001b[0;34m[\u001b[0m\u001b[0;34m'age'\u001b[0m\u001b[0;34m]\u001b[0m\u001b[0;34m\u001b[0m\u001b[0;34m\u001b[0m\u001b[0m\n\u001b[0m",
            "\u001b[0;31mKeyError\u001b[0m: 'age'"
          ]
        }
      ]
    },
    {
      "cell_type": "code",
      "source": [
        "# TypeError\n",
        "# The TypeError is thrown when an operation or function is applied to an object of an inappropriate type.\n",
        "1 + 'a'"
      ],
      "metadata": {
        "colab": {
          "base_uri": "https://localhost:8080/",
          "height": 176
        },
        "id": "-l9zOgpi64q1",
        "outputId": "ff9857a2-85c2-4416-bcd1-1fd545846e3e"
      },
      "execution_count": null,
      "outputs": [
        {
          "output_type": "error",
          "ename": "TypeError",
          "evalue": "unsupported operand type(s) for +: 'int' and 'str'",
          "traceback": [
            "\u001b[0;31m---------------------------------------------------------------------------\u001b[0m",
            "\u001b[0;31mTypeError\u001b[0m                                 Traceback (most recent call last)",
            "\u001b[0;32m<ipython-input-8-2a3eb3f5bb0a>\u001b[0m in \u001b[0;36m<cell line: 3>\u001b[0;34m()\u001b[0m\n\u001b[1;32m      1\u001b[0m \u001b[0;31m# TypeError\u001b[0m\u001b[0;34m\u001b[0m\u001b[0;34m\u001b[0m\u001b[0m\n\u001b[1;32m      2\u001b[0m \u001b[0;31m# The TypeError is thrown when an operation or function is applied to an object of an inappropriate type.\u001b[0m\u001b[0;34m\u001b[0m\u001b[0;34m\u001b[0m\u001b[0m\n\u001b[0;32m----> 3\u001b[0;31m \u001b[0;36m1\u001b[0m \u001b[0;34m+\u001b[0m \u001b[0;34m'a'\u001b[0m\u001b[0;34m\u001b[0m\u001b[0;34m\u001b[0m\u001b[0m\n\u001b[0m",
            "\u001b[0;31mTypeError\u001b[0m: unsupported operand type(s) for +: 'int' and 'str'"
          ]
        }
      ]
    },
    {
      "cell_type": "code",
      "source": [
        "# ValueError\n",
        "# The ValueError is thrown when a function's argument is of an inappropriate type.\n",
        "int('a')"
      ],
      "metadata": {
        "colab": {
          "base_uri": "https://localhost:8080/",
          "height": 176
        },
        "id": "zTt1dsqn64om",
        "outputId": "34ad1c35-a90a-49aa-bc52-86c92c5740b9"
      },
      "execution_count": null,
      "outputs": [
        {
          "output_type": "error",
          "ename": "ValueError",
          "evalue": "invalid literal for int() with base 10: 'a'",
          "traceback": [
            "\u001b[0;31m---------------------------------------------------------------------------\u001b[0m",
            "\u001b[0;31mValueError\u001b[0m                                Traceback (most recent call last)",
            "\u001b[0;32m<ipython-input-9-e419d2a084b4>\u001b[0m in \u001b[0;36m<cell line: 3>\u001b[0;34m()\u001b[0m\n\u001b[1;32m      1\u001b[0m \u001b[0;31m# ValueError\u001b[0m\u001b[0;34m\u001b[0m\u001b[0;34m\u001b[0m\u001b[0m\n\u001b[1;32m      2\u001b[0m \u001b[0;31m# The ValueError is thrown when a function's argument is of an inappropriate type.\u001b[0m\u001b[0;34m\u001b[0m\u001b[0;34m\u001b[0m\u001b[0m\n\u001b[0;32m----> 3\u001b[0;31m \u001b[0mint\u001b[0m\u001b[0;34m(\u001b[0m\u001b[0;34m'a'\u001b[0m\u001b[0;34m)\u001b[0m\u001b[0;34m\u001b[0m\u001b[0;34m\u001b[0m\u001b[0m\n\u001b[0m",
            "\u001b[0;31mValueError\u001b[0m: invalid literal for int() with base 10: 'a'"
          ]
        }
      ]
    },
    {
      "cell_type": "code",
      "source": [
        "# NameError\n",
        "# The NameError is thrown when an object could not be found.\n",
        "print(k)"
      ],
      "metadata": {
        "colab": {
          "base_uri": "https://localhost:8080/",
          "height": 176
        },
        "id": "qEnFmS1R64mS",
        "outputId": "e3c0e448-6a43-410f-ba59-f5ffeea62ff7"
      },
      "execution_count": null,
      "outputs": [
        {
          "output_type": "error",
          "ename": "NameError",
          "evalue": "name 'k' is not defined",
          "traceback": [
            "\u001b[0;31m---------------------------------------------------------------------------\u001b[0m",
            "\u001b[0;31mNameError\u001b[0m                                 Traceback (most recent call last)",
            "\u001b[0;32m<ipython-input-10-e3e8aaa4ec45>\u001b[0m in \u001b[0;36m<cell line: 3>\u001b[0;34m()\u001b[0m\n\u001b[1;32m      1\u001b[0m \u001b[0;31m# NameError\u001b[0m\u001b[0;34m\u001b[0m\u001b[0;34m\u001b[0m\u001b[0m\n\u001b[1;32m      2\u001b[0m \u001b[0;31m# The NameError is thrown when an object could not be found.\u001b[0m\u001b[0;34m\u001b[0m\u001b[0;34m\u001b[0m\u001b[0m\n\u001b[0;32m----> 3\u001b[0;31m \u001b[0mprint\u001b[0m\u001b[0;34m(\u001b[0m\u001b[0mk\u001b[0m\u001b[0;34m)\u001b[0m\u001b[0;34m\u001b[0m\u001b[0;34m\u001b[0m\u001b[0m\n\u001b[0m",
            "\u001b[0;31mNameError\u001b[0m: name 'k' is not defined"
          ]
        }
      ]
    },
    {
      "cell_type": "code",
      "source": [
        "# AttributeError\n",
        "L = [1,2,3]\n",
        "L.upper()\n",
        "\n",
        "# Stacktrace"
      ],
      "metadata": {
        "colab": {
          "base_uri": "https://localhost:8080/",
          "height": 211
        },
        "id": "iL_DTdZG64kk",
        "outputId": "a6932c3f-2eb7-4f7c-8dc9-c52c109abd46"
      },
      "execution_count": null,
      "outputs": [
        {
          "output_type": "error",
          "ename": "AttributeError",
          "evalue": "'list' object has no attribute 'upper'",
          "traceback": [
            "\u001b[0;31m---------------------------------------------------------------------------\u001b[0m",
            "\u001b[0;31mAttributeError\u001b[0m                            Traceback (most recent call last)",
            "\u001b[0;32m<ipython-input-11-02532e56c452>\u001b[0m in \u001b[0;36m<cell line: 3>\u001b[0;34m()\u001b[0m\n\u001b[1;32m      1\u001b[0m \u001b[0;31m# AttributeError\u001b[0m\u001b[0;34m\u001b[0m\u001b[0;34m\u001b[0m\u001b[0m\n\u001b[1;32m      2\u001b[0m \u001b[0mL\u001b[0m \u001b[0;34m=\u001b[0m \u001b[0;34m[\u001b[0m\u001b[0;36m1\u001b[0m\u001b[0;34m,\u001b[0m\u001b[0;36m2\u001b[0m\u001b[0;34m,\u001b[0m\u001b[0;36m3\u001b[0m\u001b[0;34m]\u001b[0m\u001b[0;34m\u001b[0m\u001b[0;34m\u001b[0m\u001b[0m\n\u001b[0;32m----> 3\u001b[0;31m \u001b[0mL\u001b[0m\u001b[0;34m.\u001b[0m\u001b[0mupper\u001b[0m\u001b[0;34m(\u001b[0m\u001b[0;34m)\u001b[0m\u001b[0;34m\u001b[0m\u001b[0;34m\u001b[0m\u001b[0m\n\u001b[0m\u001b[1;32m      4\u001b[0m \u001b[0;34m\u001b[0m\u001b[0m\n\u001b[1;32m      5\u001b[0m \u001b[0;31m# Stacktrace\u001b[0m\u001b[0;34m\u001b[0m\u001b[0;34m\u001b[0m\u001b[0m\n",
            "\u001b[0;31mAttributeError\u001b[0m: 'list' object has no attribute 'upper'"
          ]
        }
      ]
    },
    {
      "cell_type": "markdown",
      "source": [
        "### Exceptions\n",
        "\n",
        "If things go wrong during the execution of the program(runtime). It generally happens when something unforeseen has happened.\n",
        "\n",
        "- Exceptions are raised by python runtime\n",
        "- You have to takle is on the fly\n",
        "\n",
        "#### **Examples**\n",
        "\n",
        "- Memory overflow\n",
        "- Divide by 0 -> logical error\n",
        "- Database error"
      ],
      "metadata": {
        "id": "l6JrgCrHA2Tq"
      }
    },
    {
      "cell_type": "code",
      "source": [
        "# Why is it important to handle exceptions\n",
        "# how to handle exceptions\n",
        "# -> Try except block"
      ],
      "metadata": {
        "id": "DdGutYaG8arp"
      },
      "execution_count": null,
      "outputs": []
    },
    {
      "cell_type": "code",
      "source": [
        "# let's create a file\n",
        "with open('sample.txt','w') as f:\n",
        "  f.write('hello world')"
      ],
      "metadata": {
        "id": "5ZUQ5ooi8aoF"
      },
      "execution_count": null,
      "outputs": []
    },
    {
      "cell_type": "code",
      "source": [
        "# try catch demo\n",
        "try:\n",
        "  with open('sample1.txt','r') as f:\n",
        "    print(f.read())\n",
        "except:\n",
        "  print('sorry file not found')"
      ],
      "metadata": {
        "colab": {
          "base_uri": "https://localhost:8080/"
        },
        "id": "7P47DDtD8ama",
        "outputId": "53a4a819-cce0-4194-ee8f-388e4381923e"
      },
      "execution_count": null,
      "outputs": [
        {
          "output_type": "stream",
          "name": "stdout",
          "text": [
            "sorry file not found\n"
          ]
        }
      ]
    },
    {
      "cell_type": "code",
      "source": [
        "# catching specific exception\n",
        "try:\n",
        "  m=5\n",
        "  f = open('sample1.txt','r')\n",
        "  print(f.read())\n",
        "  print(m)\n",
        "  print(5/2)\n",
        "  L = [1,2,3]\n",
        "  L[100]\n",
        "except FileNotFoundError:\n",
        "  print('file not found')\n",
        "except NameError:\n",
        "  print('variable not defined')\n",
        "except ZeroDivisionError:\n",
        "  print(\"can't divide by 0\")\n",
        "except Exception as e:\n",
        "  print(e)"
      ],
      "metadata": {
        "colab": {
          "base_uri": "https://localhost:8080/"
        },
        "id": "ST6xgaeQ8aky",
        "outputId": "f9e48cc2-5b8c-4c16-8063-09c2edbb9600"
      },
      "execution_count": null,
      "outputs": [
        {
          "output_type": "stream",
          "name": "stdout",
          "text": [
            "file not found\n"
          ]
        }
      ]
    },
    {
      "cell_type": "code",
      "source": [
        "# else  (try ke succces baad jo bhi kaam hai)\n",
        "try:\n",
        "  f = open('sample1.txt','r')\n",
        "except FileNotFoundError:\n",
        "  print('file nai mili')\n",
        "except Exception:\n",
        "  print('kuch to lafda hai')\n",
        "else:\n",
        "  print(f.read())"
      ],
      "metadata": {
        "colab": {
          "base_uri": "https://localhost:8080/"
        },
        "id": "Kp9TlD0S8ajU",
        "outputId": "c9d0ab13-5c80-4f0c-f1a0-fc0b920096c5"
      },
      "execution_count": null,
      "outputs": [
        {
          "output_type": "stream",
          "name": "stdout",
          "text": [
            "file nai mili\n"
          ]
        }
      ]
    },
    {
      "cell_type": "code",
      "source": [
        "# finally (the code will anyway execute)\n",
        "# else\n",
        "try:\n",
        "  f = open('sample1.txt','r')\n",
        "except FileNotFoundError:\n",
        "  print('file nai mili')\n",
        "except Exception:\n",
        "  print('kuch to lafda hai')\n",
        "else:\n",
        "  print(f.read())\n",
        "finally:\n",
        "  print('ye to print hoga hi')"
      ],
      "metadata": {
        "colab": {
          "base_uri": "https://localhost:8080/"
        },
        "id": "FwrGbfCe8agl",
        "outputId": "b39229eb-51ac-4d4b-f8d3-ce967315ece9"
      },
      "execution_count": null,
      "outputs": [
        {
          "output_type": "stream",
          "name": "stdout",
          "text": [
            "file nai mili\n",
            "ye to print hoga hi\n"
          ]
        }
      ]
    },
    {
      "cell_type": "code",
      "source": [
        "# raise Exception\n",
        "# In Python programming, exceptions are raised when errors occur at runtime.\n",
        "# We can also manually raise exceptions using the raise keyword.\n",
        "\n",
        "# We can optionally pass values to the exception to clarify why that exception was raised"
      ],
      "metadata": {
        "id": "x7Gd8KvK8ae8"
      },
      "execution_count": null,
      "outputs": []
    },
    {
      "cell_type": "code",
      "source": [
        "raise ZeroDivisionError('aise hi try kar raha hu')\n",
        "# Java\n",
        "# try -> try\n",
        "# except -> catch\n",
        "# raise -> throw"
      ],
      "metadata": {
        "colab": {
          "base_uri": "https://localhost:8080/",
          "height": 211
        },
        "id": "V6WJDVF3Fn3c",
        "outputId": "0eb0e776-e793-47f8-a47f-71337ef88230"
      },
      "execution_count": null,
      "outputs": [
        {
          "output_type": "error",
          "ename": "ZeroDivisionError",
          "evalue": "aise hi try kar raha hu",
          "traceback": [
            "\u001b[0;31m---------------------------------------------------------------------------\u001b[0m",
            "\u001b[0;31mZeroDivisionError\u001b[0m                         Traceback (most recent call last)",
            "\u001b[0;32m<ipython-input-19-449a2aa7046e>\u001b[0m in \u001b[0;36m<cell line: 1>\u001b[0;34m()\u001b[0m\n\u001b[0;32m----> 1\u001b[0;31m \u001b[0;32mraise\u001b[0m \u001b[0mZeroDivisionError\u001b[0m\u001b[0;34m(\u001b[0m\u001b[0;34m'aise hi try kar raha hu'\u001b[0m\u001b[0;34m)\u001b[0m\u001b[0;34m\u001b[0m\u001b[0;34m\u001b[0m\u001b[0m\n\u001b[0m\u001b[1;32m      2\u001b[0m \u001b[0;31m# Java\u001b[0m\u001b[0;34m\u001b[0m\u001b[0;34m\u001b[0m\u001b[0m\n\u001b[1;32m      3\u001b[0m \u001b[0;31m# try -> try\u001b[0m\u001b[0;34m\u001b[0m\u001b[0;34m\u001b[0m\u001b[0m\n\u001b[1;32m      4\u001b[0m \u001b[0;31m# except -> catch\u001b[0m\u001b[0;34m\u001b[0m\u001b[0;34m\u001b[0m\u001b[0m\n\u001b[1;32m      5\u001b[0m \u001b[0;31m# raise -> throw\u001b[0m\u001b[0;34m\u001b[0m\u001b[0;34m\u001b[0m\u001b[0m\n",
            "\u001b[0;31mZeroDivisionError\u001b[0m: aise hi try kar raha hu"
          ]
        }
      ]
    },
    {
      "cell_type": "code",
      "source": [
        "class Bank:\n",
        "  def __init__(self,balance):\n",
        "    self.balance = balance\n",
        "\n",
        "  def withdraw(self,amount):\n",
        "    if amount < 0:\n",
        "      raise Exception('amount cannot be -ve')\n",
        "    if self.balance < amount:\n",
        "      raise Exception('paise nai hai tere paas')\n",
        "    self.balance = self.balance - amount\n",
        "\n",
        "obj = Bank(10000)\n",
        "try:\n",
        "  obj.withdraw(-5000)\n",
        "except Exception as e:\n",
        "  print(e)\n",
        "else:\n",
        "  print(obj.balance)\n"
      ],
      "metadata": {
        "colab": {
          "base_uri": "https://localhost:8080/"
        },
        "id": "2vHZeT2GFn0Q",
        "outputId": "c1bd67b0-a6fc-4ee8-c03b-ed7c160a401f"
      },
      "execution_count": null,
      "outputs": [
        {
          "output_type": "stream",
          "name": "stdout",
          "text": [
            "amount cannot be -ve\n"
          ]
        }
      ]
    },
    {
      "cell_type": "code",
      "source": [
        "#create custom exception\n",
        "class MyException(Exception):\n",
        "  def __init__(self,message):\n",
        "    print(message)\n",
        "\n",
        "class Bank:\n",
        "  def __init__(self,balance):\n",
        "    self.balance = balance\n",
        "\n",
        "  def withdraw(self,amount):\n",
        "    if amount < 0:\n",
        "      raise MyException('amount cannot be -ve')\n",
        "    if self.balance < amount:\n",
        "      raise MyException('paise nai hai tere paas')\n",
        "    self.balance = self.balance - amount\n",
        "\n",
        "obj = Bank(10000)\n",
        "try:\n",
        "  obj.withdraw(-5000)\n",
        "except MyException as e:\n",
        "  pass\n",
        "else:\n",
        "  print(obj.balance)\n"
      ],
      "metadata": {
        "colab": {
          "base_uri": "https://localhost:8080/"
        },
        "id": "V6aMHQ4BLwY1",
        "outputId": "dc13541a-4c12-42cf-d156-35f608071963"
      },
      "execution_count": null,
      "outputs": [
        {
          "output_type": "stream",
          "name": "stdout",
          "text": [
            "amount cannot be -ve\n"
          ]
        }
      ]
    },
    {
      "cell_type": "code",
      "source": [
        "#simple example\n",
        "#kab aapko custom classes bnani chahiye"
      ],
      "metadata": {
        "id": "pfzs-uD6Fnx_"
      },
      "execution_count": null,
      "outputs": []
    },
    {
      "cell_type": "code",
      "source": [
        "\n",
        "class SecurityError(Exception):\n",
        "\n",
        "  def __init__(self,message):\n",
        "    print(message)\n",
        "\n",
        "  def logout(self):\n",
        "    print('logout')\n",
        "\n",
        "class Google:\n",
        "\n",
        "  def __init__(self,name,email,password,device):\n",
        "    self.name = name\n",
        "    self.email = email\n",
        "    self.password = password\n",
        "    self.device = device\n",
        "\n",
        "  def login(self,email,password,device):\n",
        "    if device != self.device:\n",
        "      raise SecurityError('bhai teri toh lag gayi')\n",
        "    if email == self.email and password == self.password:\n",
        "      print('welcome')\n",
        "    else:\n",
        "      print('login error')\n",
        "\n",
        "\n",
        "obj = Google('palak','palak@gmail.com','1234','android')\n",
        "\n",
        "try:\n",
        "  obj.login('palak@gmail.com','1234','windows')\n",
        "except SecurityError as e:\n",
        "  e.logout()\n",
        "else:\n",
        "  print(obj.name)\n",
        "finally:\n",
        "  print('database connection closed')\n"
      ],
      "metadata": {
        "colab": {
          "base_uri": "https://localhost:8080/"
        },
        "id": "5gHUGpYDFnv5",
        "outputId": "8b0bba49-62f2-43d0-b1ff-b1024acd5a7d"
      },
      "execution_count": null,
      "outputs": [
        {
          "output_type": "stream",
          "name": "stdout",
          "text": [
            "bhai teri toh lag gayi\n",
            "logout\n",
            "database connection closed\n"
          ]
        }
      ]
    },
    {
      "cell_type": "code",
      "source": [],
      "metadata": {
        "id": "w5BPohLIFnuC"
      },
      "execution_count": null,
      "outputs": []
    },
    {
      "cell_type": "code",
      "source": [],
      "metadata": {
        "id": "Zp8Oc6i8FnsG"
      },
      "execution_count": null,
      "outputs": []
    },
    {
      "cell_type": "code",
      "source": [],
      "metadata": {
        "id": "TFedogZ4FnqQ"
      },
      "execution_count": null,
      "outputs": []
    },
    {
      "cell_type": "code",
      "source": [],
      "metadata": {
        "id": "vzB2eNigFnoW"
      },
      "execution_count": null,
      "outputs": []
    }
  ]
}