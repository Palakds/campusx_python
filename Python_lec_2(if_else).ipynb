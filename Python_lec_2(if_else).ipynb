{
  "nbformat": 4,
  "nbformat_minor": 0,
  "metadata": {
    "colab": {
      "provenance": [],
      "authorship_tag": "ABX9TyPMjT7dVYteml9HsEfhQ4YS",
      "include_colab_link": true
    },
    "kernelspec": {
      "name": "python3",
      "display_name": "Python 3"
    },
    "language_info": {
      "name": "python"
    }
  },
  "cells": [
    {
      "cell_type": "markdown",
      "metadata": {
        "id": "view-in-github",
        "colab_type": "text"
      },
      "source": [
        "<a href=\"https://colab.research.google.com/github/Palakds/campusx_python/blob/main/Python_lec_2(if_else).ipynb\" target=\"_parent\"><img src=\"https://colab.research.google.com/assets/colab-badge.svg\" alt=\"Open In Colab\"/></a>"
      ]
    },
    {
      "cell_type": "code",
      "execution_count": null,
      "metadata": {
        "colab": {
          "base_uri": "https://localhost:8080/"
        },
        "id": "FzgVGRca2FSL",
        "outputId": "24f061c8-f270-4801-b684-946006194a77"
      },
      "outputs": [
        {
          "output_type": "stream",
          "name": "stdout",
          "text": [
            "Enter a three digit number :123\n",
            "123\n",
            "6\n"
          ]
        }
      ],
      "source": [
        "# Find the sum of a 3- digit number enter by the user\n",
        "number = int(input('Enter a three digit number :'))\n",
        "print(number)\n",
        "a= number%10\n",
        "number = number//10\n",
        "b = number%10\n",
        "number = number//10\n",
        "c=number%10\n",
        "print(a+b+c)"
      ]
    },
    {
      "cell_type": "markdown",
      "source": [
        "## If-else in Python"
      ],
      "metadata": {
        "id": "qiRO609O36PR"
      }
    },
    {
      "cell_type": "code",
      "source": [
        "# login program and identification\n",
        "email = input('Enter your email :')\n",
        "password = input('Enter your password :')\n",
        "if email == 'palakgupta1234@gmail.com' and password == '1234':\n",
        "  print('welcome palak')\n",
        "else :\n",
        "  print('wrong email or password')"
      ],
      "metadata": {
        "colab": {
          "base_uri": "https://localhost:8080/"
        },
        "id": "Ym0FWRhb2qdJ",
        "outputId": "fd44aba7-1505-4627-f966-aed3377708e5"
      },
      "execution_count": null,
      "outputs": [
        {
          "output_type": "stream",
          "name": "stdout",
          "text": [
            "Enter your email :palak1234@gmail.com\n",
            "Enter your password :1234\n",
            "wrong email or password\n"
          ]
        }
      ]
    },
    {
      "cell_type": "code",
      "source": [
        "# if-else\n",
        "# 1. Find the min of 3 given numbers\n",
        "# 2. Menu driven Program\n"
      ],
      "metadata": {
        "id": "PxOJykXF2q9h"
      },
      "execution_count": null,
      "outputs": []
    },
    {
      "cell_type": "code",
      "source": [
        "# min of 3 numbers\n",
        "a = int(input('first number :'))\n",
        "b = int(input('second number :'))\n",
        "c = int(input('third number :'))\n",
        "if a<b and a<c :\n",
        "  print('smallest numbers is :',a)\n",
        "elif b<c :\n",
        "  print('smallest number is :', b)\n",
        "else :\n",
        "  print('smallest number is :',c)"
      ],
      "metadata": {
        "id": "NMo2Bf1C2rAD",
        "colab": {
          "base_uri": "https://localhost:8080/"
        },
        "outputId": "f179adb6-f12a-4f9c-9213-32df7a3756af"
      },
      "execution_count": null,
      "outputs": [
        {
          "output_type": "stream",
          "name": "stdout",
          "text": [
            "first number :1\n",
            "second number :5\n",
            "third number :2\n",
            "smallest numbers is : 1\n"
          ]
        }
      ]
    },
    {
      "cell_type": "code",
      "source": [
        "# menu driven calculator\n",
        "fnum = int(input('Enter first number :' ))\n",
        "snum = int(input('Enter the second number :'))\n",
        "op = input('Enter the operation')\n",
        "if op=='+':\n",
        "  print(fnum + snum)\n",
        "elif op=='-':\n",
        "  print(fnum-snum)\n",
        "elif op=='*':\n",
        "  print(fnum*snum)\n",
        "else:\n",
        "  print(fnum/snum)\n"
      ],
      "metadata": {
        "id": "olW46U3y2rBv",
        "colab": {
          "base_uri": "https://localhost:8080/"
        },
        "outputId": "b466a579-12ea-478e-a11e-0482eb256622"
      },
      "execution_count": null,
      "outputs": [
        {
          "output_type": "stream",
          "name": "stdout",
          "text": [
            "Enter first number :98\n",
            "Enter the second number :123\n",
            "Enter the operation*\n",
            "12054\n"
          ]
        }
      ]
    },
    {
      "cell_type": "markdown",
      "source": [
        "## Models in Python\n",
        "\n",
        "*   math\n",
        "* keywords\n",
        "* constan\n",
        "* random\n",
        "\n",
        "\n"
      ],
      "metadata": {
        "id": "Bpq-oF0sJjkN"
      }
    },
    {
      "cell_type": "code",
      "source": [
        "import math\n",
        "math.floor(6.9)"
      ],
      "metadata": {
        "id": "kFOKOObq2rD-",
        "colab": {
          "base_uri": "https://localhost:8080/"
        },
        "outputId": "51528916-2da7-4863-9d7a-a5f1342e79b3"
      },
      "execution_count": null,
      "outputs": [
        {
          "output_type": "execute_result",
          "data": {
            "text/plain": [
              "6"
            ]
          },
          "metadata": {},
          "execution_count": 10
        }
      ]
    },
    {
      "cell_type": "code",
      "source": [
        "import keyword\n",
        "print(keyword.kwlist)"
      ],
      "metadata": {
        "id": "CS13y-yc2rHZ",
        "colab": {
          "base_uri": "https://localhost:8080/"
        },
        "outputId": "b2d9cbb4-3e00-468f-bf71-f193c1d0fae7"
      },
      "execution_count": null,
      "outputs": [
        {
          "output_type": "stream",
          "name": "stdout",
          "text": [
            "['False', 'None', 'True', 'and', 'as', 'assert', 'async', 'await', 'break', 'class', 'continue', 'def', 'del', 'elif', 'else', 'except', 'finally', 'for', 'from', 'global', 'if', 'import', 'in', 'is', 'lambda', 'nonlocal', 'not', 'or', 'pass', 'raise', 'return', 'try', 'while', 'with', 'yield']\n"
          ]
        }
      ]
    },
    {
      "cell_type": "code",
      "source": [
        "# import random\n",
        "import random\n",
        "print(random.randint(1,100))"
      ],
      "metadata": {
        "id": "PfSDBmD-2rJz",
        "colab": {
          "base_uri": "https://localhost:8080/"
        },
        "outputId": "bb38c03f-f7ae-4af1-cf9d-dfd16a2fa35c"
      },
      "execution_count": null,
      "outputs": [
        {
          "output_type": "stream",
          "name": "stdout",
          "text": [
            "98\n"
          ]
        }
      ]
    },
    {
      "cell_type": "code",
      "source": [
        "#datetime\n",
        "import datetime\n",
        "print(datetime.datetime.now())"
      ],
      "metadata": {
        "id": "hLHPpJYj2rNV",
        "colab": {
          "base_uri": "https://localhost:8080/"
        },
        "outputId": "b8ecfd86-5718-4a0d-cf58-8d3ece418257"
      },
      "execution_count": null,
      "outputs": [
        {
          "output_type": "stream",
          "name": "stdout",
          "text": [
            "2024-08-08 13:25:28.795413\n"
          ]
        }
      ]
    },
    {
      "cell_type": "markdown",
      "source": [
        "# Loops in Python\n",
        "* Need for loop\n",
        "* While loop\n",
        "* For loop"
      ],
      "metadata": {
        "id": "59Ziof75LBJU"
      }
    },
    {
      "cell_type": "code",
      "source": [
        "number= int(input('Enter the number'))\n",
        "i = 1\n",
        "while i<11:\n",
        "  print(number*i)\n",
        "  i +=1"
      ],
      "metadata": {
        "colab": {
          "base_uri": "https://localhost:8080/"
        },
        "id": "ofAbLPQNLyKt",
        "outputId": "04f658e8-b38f-4735-8590-795c30b5ecc4"
      },
      "execution_count": null,
      "outputs": [
        {
          "output_type": "stream",
          "name": "stdout",
          "text": [
            "Enter the number11\n",
            "11\n",
            "22\n",
            "33\n",
            "44\n",
            "55\n",
            "66\n",
            "77\n",
            "88\n",
            "99\n",
            "110\n"
          ]
        }
      ]
    },
    {
      "cell_type": "code",
      "source": [
        " # while loop with else\n",
        "x = 1\n",
        "while x<3:\n",
        "   print(x)\n",
        "   x+=1\n",
        "else:\n",
        "   print('limit crossed')"
      ],
      "metadata": {
        "colab": {
          "base_uri": "https://localhost:8080/"
        },
        "id": "ne7_FsfWKoST",
        "outputId": "d8840d15-44d3-4c0c-ecd3-df19e1a0f1b7"
      },
      "execution_count": null,
      "outputs": [
        {
          "output_type": "stream",
          "name": "stdout",
          "text": [
            "1\n",
            "2\n",
            "limit crossed\n"
          ]
        }
      ]
    },
    {
      "cell_type": "code",
      "source": [
        "# Build a guessing game\n",
        "# generator a random integer between 1 and 100\n",
        "import random\n",
        "jackpot = random.randint(1,100)\n",
        "guess=int(input('guess karo :'))\n",
        "counter = 1\n",
        "while guess != jackpot:\n",
        "  if guess < jackpot:\n",
        "    print('galat!guess higher')\n",
        "  else:\n",
        "    print('galat! guess lower')\n",
        "  guess=int(input('guess karo :'))\n",
        "  counter += 1\n",
        "else:\n",
        "  print('correct guess')\n",
        "  print('attempts',counter)"
      ],
      "metadata": {
        "colab": {
          "base_uri": "https://localhost:8080/"
        },
        "id": "DJ_OmenPKoUr",
        "outputId": "55dda716-7c98-4926-b68d-41af4c826dd6"
      },
      "execution_count": null,
      "outputs": [
        {
          "output_type": "stream",
          "name": "stdout",
          "text": [
            "guess karo :67\n",
            "galat! guess lower\n",
            "guess karo :45\n",
            "galat! guess lower\n",
            "guess karo :34\n",
            "galat! guess lower\n",
            "guess karo :22\n",
            "galat! guess lower\n",
            "guess karo :12\n",
            "galat! guess lower\n",
            "guess karo :1\n",
            "galat!guess higher\n",
            "guess karo :5\n",
            "correct guess\n"
          ]
        }
      ]
    },
    {
      "cell_type": "code",
      "source": [
        "# For loop demo\n",
        "for i in range(1,11):\n",
        "  print(i)"
      ],
      "metadata": {
        "colab": {
          "base_uri": "https://localhost:8080/"
        },
        "id": "Y4_Cxra6KoWm",
        "outputId": "51b5b461-ea97-48c1-d1a1-4d17f53a8406"
      },
      "execution_count": null,
      "outputs": [
        {
          "output_type": "stream",
          "name": "stdout",
          "text": [
            "1\n",
            "2\n",
            "3\n",
            "4\n",
            "5\n",
            "6\n",
            "7\n",
            "8\n",
            "9\n",
            "10\n"
          ]
        }
      ]
    },
    {
      "cell_type": "code",
      "source": [
        "# for loop example"
      ],
      "metadata": {
        "id": "vnFHqQ90KoYo"
      },
      "execution_count": null,
      "outputs": []
    },
    {
      "cell_type": "markdown",
      "source": [
        "#### Program - The current population of a town is 10000. The population of the town is increasoing at the rate of 10% per year. you have to write a program to find out the population at the end of each year of the last 10 years."
      ],
      "metadata": {
        "id": "QS1ZYjJLXEva"
      }
    },
    {
      "cell_type": "code",
      "source": [
        "curr_pop = 10000\n",
        "for i in range(10,0,-1):\n",
        "  print(i,curr_pop)\n",
        "  curr_pop = curr_pop/1.1"
      ],
      "metadata": {
        "colab": {
          "base_uri": "https://localhost:8080/"
        },
        "id": "n60Po7UgKoaq",
        "outputId": "716a94f0-8f87-4171-ae17-f260f266df46"
      },
      "execution_count": null,
      "outputs": [
        {
          "output_type": "stream",
          "name": "stdout",
          "text": [
            "10 10000\n",
            "9 9090.90909090909\n",
            "8 8264.462809917353\n",
            "7 7513.148009015775\n",
            "6 6830.134553650703\n",
            "5 6209.213230591548\n",
            "4 5644.739300537771\n",
            "3 5131.5811823070635\n",
            "2 4665.07380209733\n",
            "1 4240.976183724845\n"
          ]
        }
      ]
    },
    {
      "cell_type": "code",
      "source": [
        "n = int(input('enter n :'))\n",
        "result = 0\n",
        "fact = 1\n",
        "for i in range(1,n+1):\n",
        "  fact = fact * i\n",
        "  result = result + i/fact\n",
        "print(result)"
      ],
      "metadata": {
        "id": "-IZ_uk32KoeB",
        "colab": {
          "base_uri": "https://localhost:8080/"
        },
        "outputId": "bb602f71-8591-4947-8aaa-e2c34c9168f9"
      },
      "execution_count": null,
      "outputs": [
        {
          "output_type": "stream",
          "name": "stdout",
          "text": [
            "enter n :5\n",
            "2.708333333333333\n"
          ]
        }
      ]
    },
    {
      "cell_type": "markdown",
      "source": [
        "## Nested Loops"
      ],
      "metadata": {
        "id": "wGAeb2aHpFfn"
      }
    },
    {
      "cell_type": "code",
      "source": [
        "for i  in range(1,5):\n",
        "  for j in range(1,5):\n",
        "    print(i,j)"
      ],
      "metadata": {
        "colab": {
          "base_uri": "https://localhost:8080/"
        },
        "id": "GNdnBt5KpwQH",
        "outputId": "caf8aad7-c4b2-46b9-9c12-1b08ea469382"
      },
      "execution_count": null,
      "outputs": [
        {
          "output_type": "stream",
          "name": "stdout",
          "text": [
            "1 1\n",
            "1 2\n",
            "1 3\n",
            "1 4\n",
            "2 1\n",
            "2 2\n",
            "2 3\n",
            "2 4\n",
            "3 1\n",
            "3 2\n",
            "3 3\n",
            "3 4\n",
            "4 1\n",
            "4 2\n",
            "4 3\n",
            "4 4\n"
          ]
        }
      ]
    },
    {
      "cell_type": "markdown",
      "source": [
        "### Pattern 1\n",
        "\n",
        "\n",
        "*** <br>\n",
        "**** <br>\n",
        "***<br>\n"
      ],
      "metadata": {
        "id": "iUnoz6z1_aaI"
      }
    },
    {
      "cell_type": "code",
      "source": [
        "rows = int(input('enter  number of rows :'))\n",
        "for i in range(1,rows+1):\n",
        "  for j in range(1,i+1):\n",
        "    print('*',end='')\n",
        "  print()"
      ],
      "metadata": {
        "colab": {
          "base_uri": "https://localhost:8080/"
        },
        "id": "PctD_dEUpUdz",
        "outputId": "a3d970fa-25e3-4c9e-c3c3-5dd74bf74b1e"
      },
      "execution_count": null,
      "outputs": [
        {
          "output_type": "stream",
          "name": "stdout",
          "text": [
            "enter  number of rows :6\n",
            "*\n",
            "**\n",
            "***\n",
            "****\n",
            "*****\n",
            "******\n"
          ]
        }
      ]
    },
    {
      "cell_type": "markdown",
      "source": [
        "### Pattern 2\n",
        "\n",
        "1<br>\n",
        "121<br>\n",
        "12321<br>\n",
        "1234321<br>"
      ],
      "metadata": {
        "id": "OxXDih5R_0uB"
      }
    },
    {
      "cell_type": "code",
      "source": [
        "rows = int(input('enter number of rows :'))\n",
        "for i in range(1,rows+1):\n",
        "  for j in range(1,i+1):\n",
        "    print(j,end='')\n",
        "  for k in range(i-1,0,-1):\n",
        "      print(k,end='')\n",
        "  print()"
      ],
      "metadata": {
        "colab": {
          "base_uri": "https://localhost:8080/"
        },
        "id": "yiXzv2c1m1sF",
        "outputId": "30d4022d-8851-4fdc-bc48-65f4277f55b0"
      },
      "execution_count": null,
      "outputs": [
        {
          "output_type": "stream",
          "name": "stdout",
          "text": [
            "enter number of rows :4\n",
            "1\n",
            "121\n",
            "12321\n",
            "1234321\n"
          ]
        }
      ]
    },
    {
      "cell_type": "markdown",
      "source": [
        "# Loop Control Statement\n",
        "\n",
        "- Break\n",
        "- Continue\n",
        "- Pass"
      ],
      "metadata": {
        "id": "oFemwQBw_8Q1"
      }
    },
    {
      "cell_type": "code",
      "source": [
        "lower = int(input('enter the lower range'))\n",
        "higher = int(input('enter the higher range'))\n",
        "for i in range(lower,higher+1):\n",
        "  for j in range(2,i):\n",
        "    if i%j == 0:\n",
        "      break\n",
        "  else:\n",
        "      print(i)\n"
      ],
      "metadata": {
        "colab": {
          "base_uri": "https://localhost:8080/"
        },
        "id": "s2bddjEXm1u-",
        "outputId": "c399d229-7220-4ae8-9bd6-5d032ab71004"
      },
      "execution_count": null,
      "outputs": [
        {
          "output_type": "stream",
          "name": "stdout",
          "text": [
            "enter the lower range10\n",
            "enter the higher range100\n",
            "11\n",
            "13\n",
            "17\n",
            "19\n",
            "23\n",
            "29\n",
            "31\n",
            "37\n",
            "41\n",
            "43\n",
            "47\n",
            "53\n",
            "59\n",
            "61\n",
            "67\n",
            "71\n",
            "73\n",
            "79\n",
            "83\n",
            "89\n",
            "97\n"
          ]
        }
      ]
    },
    {
      "cell_type": "code",
      "source": [
        "# continue statement\n",
        "for i in range(1,10):\n",
        "  if i ==5:\n",
        "    continue\n",
        "  print(i)"
      ],
      "metadata": {
        "colab": {
          "base_uri": "https://localhost:8080/"
        },
        "id": "XuIRiQEcm1xs",
        "outputId": "ad0d7d57-766e-40ee-8bdd-bf6b08bbb735"
      },
      "execution_count": null,
      "outputs": [
        {
          "output_type": "stream",
          "name": "stdout",
          "text": [
            "1\n",
            "2\n",
            "3\n",
            "4\n",
            "6\n",
            "7\n",
            "8\n",
            "9\n"
          ]
        }
      ]
    },
    {
      "cell_type": "code",
      "source": [
        "# pass\n",
        "for i in range(1,10):\n",
        "  pass"
      ],
      "metadata": {
        "id": "paabkAlMm10m"
      },
      "execution_count": null,
      "outputs": []
    },
    {
      "cell_type": "code",
      "source": [],
      "metadata": {
        "id": "YY7zT2bqm13h"
      },
      "execution_count": null,
      "outputs": []
    },
    {
      "cell_type": "code",
      "source": [],
      "metadata": {
        "id": "Yyl33bhdm16N"
      },
      "execution_count": null,
      "outputs": []
    },
    {
      "cell_type": "code",
      "source": [],
      "metadata": {
        "id": "QMYNDqScm18-"
      },
      "execution_count": null,
      "outputs": []
    }
  ]
}